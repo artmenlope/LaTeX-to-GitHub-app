{
 "cells": [
  {
   "cell_type": "code",
   "execution_count": null,
   "metadata": {},
   "outputs": [],
   "source": [
    "import urllib"
   ]
  },
  {
   "cell_type": "code",
   "execution_count": null,
   "metadata": {},
   "outputs": [],
   "source": [
    "# Write your LaTeX code here.\n",
    "string = \\\n",
    "r\"\"\"\n",
    "\\mathbf{A} =\n",
    "\\begin{pmatrix}\n",
    "a_{11} & a_{12} \\\\[2ex]\n",
    "a_{21} & a_{22}\n",
    "\\end{pmatrix}\n",
    "\"\"\"[1:-1] # Delete initial and final \\n next line jumps."
   ]
  },
  {
   "cell_type": "code",
   "execution_count": null,
   "metadata": {},
   "outputs": [],
   "source": [
    "encoded_string = urllib.parse.quote(str(string).encode(\"utf-8\"), safe=\"~()*!.\\\"\")\n",
    "github_url = \"https://render.githubusercontent.com/render/math?math=\" + encoded_string\n",
    "html_result = '<img src=\"' + github_url + encoded_string + '\">'"
   ]
  },
  {
   "cell_type": "code",
   "execution_count": null,
   "metadata": {},
   "outputs": [],
   "source": [
    "print(\"GitHub URL:\\n\\n\", github_url, \"\\n\\nHTML result:\\n\\n\", html_result)"
   ]
  }
 ],
 "metadata": {
  "kernelspec": {
   "display_name": "Python 3",
   "language": "python",
   "name": "python3"
  },
  "language_info": {
   "codemirror_mode": {
    "name": "ipython",
    "version": 3
   },
   "file_extension": ".py",
   "mimetype": "text/x-python",
   "name": "python",
   "nbconvert_exporter": "python",
   "pygments_lexer": "ipython3",
   "version": "3.7.7"
  }
 },
 "nbformat": 4,
 "nbformat_minor": 4
}
